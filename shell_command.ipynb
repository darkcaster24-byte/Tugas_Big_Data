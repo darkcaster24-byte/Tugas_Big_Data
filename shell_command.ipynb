{
 "cells": [
  {
   "cell_type": "code",
   "execution_count": 1,
   "metadata": {},
   "outputs": [
    {
     "name": "stdout",
     "output_type": "stream",
     "text": [
      " Volume in drive C has no label.\n",
      " Volume Serial Number is F663-0604\n",
      "\n",
      " Directory of C:\\Users\\Filzi Muhamin Manan\\Documents\\Semester 6\\Big Data\n",
      "\n",
      "10/04/2021  23.57    <DIR>          .\n",
      "10/04/2021  23.57    <DIR>          ..\n",
      "10/04/2021  23.39    <DIR>          .ipynb_checkpoints\n",
      "10/04/2021  23.38             4.301 In_out_command.ipynb\n",
      "10/04/2021  23.18           144.867 Magic_command.ipynb\n",
      "10/04/2021  00.01                86 myscript.py\n",
      "10/04/2021  23.57             8.216 shell_command.ipynb\n",
      "               4 File(s)        157.470 bytes\n",
      "               3 Dir(s)   5.735.780.352 bytes free\n"
     ]
    }
   ],
   "source": [
    "ls"
   ]
  },
  {
   "cell_type": "code",
   "execution_count": 2,
   "metadata": {},
   "outputs": [
    {
     "data": {
      "text/plain": [
       "'C:\\\\Users\\\\Filzi Muhamin Manan\\\\Documents\\\\Semester 6\\\\Big Data'"
      ]
     },
     "execution_count": 2,
     "metadata": {},
     "output_type": "execute_result"
    }
   ],
   "source": [
    "pwd"
   ]
  },
  {
   "cell_type": "code",
   "execution_count": 3,
   "metadata": {},
   "outputs": [
    {
     "name": "stdout",
     "output_type": "stream",
     "text": [
      "\"printing from the shell\"\n"
     ]
    }
   ],
   "source": [
    "echo \"printing from the shell\""
   ]
  },
  {
   "cell_type": "code",
   "execution_count": 4,
   "metadata": {},
   "outputs": [],
   "source": [
    "contents = !ls"
   ]
  },
  {
   "cell_type": "code",
   "execution_count": 5,
   "metadata": {},
   "outputs": [
    {
     "name": "stdout",
     "output_type": "stream",
     "text": [
      "[\"'ls' is not recognized as an internal or external command,\", 'operable program or batch file.']\n"
     ]
    }
   ],
   "source": [
    "print(contents)"
   ]
  },
  {
   "cell_type": "code",
   "execution_count": 6,
   "metadata": {},
   "outputs": [],
   "source": [
    "directory = !pwd"
   ]
  },
  {
   "cell_type": "code",
   "execution_count": 7,
   "metadata": {},
   "outputs": [
    {
     "name": "stdout",
     "output_type": "stream",
     "text": [
      "[\"'pwd' is not recognized as an internal or external command,\", 'operable program or batch file.']\n"
     ]
    }
   ],
   "source": [
    "print(directory)"
   ]
  },
  {
   "cell_type": "code",
   "execution_count": 8,
   "metadata": {},
   "outputs": [
    {
     "data": {
      "text/plain": [
       "IPython.utils.text.SList"
      ]
     },
     "execution_count": 8,
     "metadata": {},
     "output_type": "execute_result"
    }
   ],
   "source": [
    "type(directory)"
   ]
  },
  {
   "cell_type": "code",
   "execution_count": 9,
   "metadata": {},
   "outputs": [],
   "source": [
    " message = \"hello from Python\""
   ]
  },
  {
   "cell_type": "code",
   "execution_count": 10,
   "metadata": {},
   "outputs": [
    {
     "name": "stdout",
     "output_type": "stream",
     "text": [
      "hello from Python\n"
     ]
    }
   ],
   "source": [
    " echo {message}"
   ]
  },
  {
   "cell_type": "code",
   "execution_count": 11,
   "metadata": {},
   "outputs": [
    {
     "data": {
      "text/plain": [
       "'C:\\\\Users\\\\Filzi Muhamin Manan\\\\Documents\\\\Semester 6\\\\Big Data'"
      ]
     },
     "execution_count": 11,
     "metadata": {},
     "output_type": "execute_result"
    }
   ],
   "source": [
    "pwd"
   ]
  },
  {
   "cell_type": "code",
   "execution_count": 12,
   "metadata": {},
   "outputs": [
    {
     "name": "stdout",
     "output_type": "stream",
     "text": [
      "C:\\Users\\Filzi Muhamin Manan\\Documents\\Semester 6\n"
     ]
    }
   ],
   "source": [
    "cd .."
   ]
  },
  {
   "cell_type": "code",
   "execution_count": 13,
   "metadata": {},
   "outputs": [
    {
     "data": {
      "text/plain": [
       "'C:\\\\Users\\\\Filzi Muhamin Manan\\\\Documents\\\\Semester 6'"
      ]
     },
     "execution_count": 13,
     "metadata": {},
     "output_type": "execute_result"
    }
   ],
   "source": [
    "pwd"
   ]
  },
  {
   "cell_type": "code",
   "execution_count": 14,
   "metadata": {},
   "outputs": [
    {
     "name": "stdout",
     "output_type": "stream",
     "text": [
      "C:\\Users\\Filzi Muhamin Manan\\Documents\n"
     ]
    }
   ],
   "source": [
    "%cd .."
   ]
  },
  {
   "cell_type": "code",
   "execution_count": 15,
   "metadata": {},
   "outputs": [
    {
     "name": "stdout",
     "output_type": "stream",
     "text": [
      "C:\\Users\\Filzi Muhamin Manan\\Documents\\Semester 6\n"
     ]
    }
   ],
   "source": [
    "cd Semester 6"
   ]
  },
  {
   "cell_type": "code",
   "execution_count": 16,
   "metadata": {},
   "outputs": [
    {
     "name": "stderr",
     "output_type": "stream",
     "text": [
      "A subdirectory or file tmp already exists.\n"
     ]
    }
   ],
   "source": [
    "mkdir tmp"
   ]
  },
  {
   "cell_type": "code",
   "execution_count": 17,
   "metadata": {},
   "outputs": [
    {
     "name": "stdout",
     "output_type": "stream",
     "text": [
      " Volume in drive C has no label.\n",
      " Volume Serial Number is F663-0604\n",
      "\n",
      " Directory of C:\\Users\\Filzi Muhamin Manan\\Documents\\Semester 6\n",
      "\n",
      "10/04/2021  23.55    <DIR>          .\n",
      "10/04/2021  23.55    <DIR>          ..\n",
      "09/04/2021  22.52    <DIR>          .ipynb_checkpoints\n",
      "04/03/2021  14.18            16.031 1811521016_FilziMuhaiminManan_TugasKECAP.docx\n",
      "18/02/2021  11.49         1.744.985 ACFrOgBRs--Isz9ge1jc45eUdxBYR7i4INzxByA9XwEIbHUP6a2O2XjrS-ZSK7qoR8fRzfdCVLen8RVz36V1iCW2EtgM-ghK55NunEDFBVtjP9F9Rnfvh5fpvOEr1090MKGXRR0S2PCGAz9KxDil.pdf\n",
      "10/03/2021  22.08    <DIR>          Apsi\n",
      "05/04/2021  19.48    <DIR>          Bahasa Indonesia\n",
      "03/02/2021  21.34         2.793.263 Bernard Marr_Big Data.pdf\n",
      "10/04/2021  23.57    <DIR>          Big Data\n",
      "26/01/2021  20.15    <DIR>          GV\n",
      "25/01/2021  20.46    <DIR>          Jurnal\n",
      "05/03/2021  14.40           424.097 JWGP-intro-to-ml-chap14-secured.pdf\n",
      "10/02/2021  21.07         2.097.440 Konsep Diri dan Persepsi.pptx\n",
      "04/02/2021  14.25            13.251 Microsoft_Big Data.docx\n",
      "09/04/2021  22.27        22.321.280 pythondatasciencehandbook.pdf\n",
      "06/04/2021  09.08    <DIR>          STPK\n",
      "25/01/2021  21.10            15.504 STPK_1811521016_FilziMuhaiminManan.docx\n",
      "31/03/2021  17.01           138.699 TB_BI.png\n",
      "31/03/2021  17.06           253.214 TB_BI_data_dummy.png\n",
      "10/04/2021  23.55    <DIR>          tmp\n",
      "03/03/2021  21.56           241.913 Tugas_BI.png\n",
      "08/03/2021  14.42           158.634 UTS SMT 6.pdf\n",
      "              12 File(s)     30.218.311 bytes\n",
      "              10 Dir(s)   5.735.931.904 bytes free\n"
     ]
    }
   ],
   "source": [
    "ls"
   ]
  },
  {
   "cell_type": "code",
   "execution_count": 18,
   "metadata": {},
   "outputs": [
    {
     "ename": "SyntaxError",
     "evalue": "invalid syntax (<ipython-input-18-fc20d26e6f58>, line 1)",
     "output_type": "error",
     "traceback": [
      "\u001b[1;36m  File \u001b[1;32m\"<ipython-input-18-fc20d26e6f58>\"\u001b[1;36m, line \u001b[1;32m1\u001b[0m\n\u001b[1;33m    cp myproject.txt tmp/\u001b[0m\n\u001b[1;37m       ^\u001b[0m\n\u001b[1;31mSyntaxError\u001b[0m\u001b[1;31m:\u001b[0m invalid syntax\n"
     ]
    }
   ],
   "source": [
    "cp myproject.txt tmp/"
   ]
  },
  {
   "cell_type": "code",
   "execution_count": 19,
   "metadata": {},
   "outputs": [
    {
     "name": "stdout",
     "output_type": "stream",
     "text": [
      " Volume in drive C has no label.\n",
      " Volume Serial Number is F663-0604\n",
      "\n",
      " Directory of C:\\Users\\Filzi Muhamin Manan\\Documents\\Semester 6\\tmp\n",
      "\n",
      "10/04/2021  23.55    <DIR>          .\n",
      "10/04/2021  23.55    <DIR>          ..\n",
      "               0 File(s)              0 bytes\n",
      "               2 Dir(s)   5.735.931.904 bytes free\n"
     ]
    }
   ],
   "source": [
    "ls tmp"
   ]
  },
  {
   "cell_type": "code",
   "execution_count": 20,
   "metadata": {},
   "outputs": [
    {
     "ename": "SyntaxError",
     "evalue": "invalid syntax (<ipython-input-20-f02f10b03345>, line 1)",
     "output_type": "error",
     "traceback": [
      "\u001b[1;36m  File \u001b[1;32m\"<ipython-input-20-f02f10b03345>\"\u001b[1;36m, line \u001b[1;32m1\u001b[0m\n\u001b[1;33m    rm -r tmp\u001b[0m\n\u001b[1;37m          ^\u001b[0m\n\u001b[1;31mSyntaxError\u001b[0m\u001b[1;31m:\u001b[0m invalid syntax\n"
     ]
    }
   ],
   "source": [
    "rm -r tmp"
   ]
  },
  {
   "cell_type": "code",
   "execution_count": null,
   "metadata": {},
   "outputs": [],
   "source": []
  }
 ],
 "metadata": {
  "kernelspec": {
   "display_name": "Python 3",
   "language": "python",
   "name": "python3"
  },
  "language_info": {
   "codemirror_mode": {
    "name": "ipython",
    "version": 3
   },
   "file_extension": ".py",
   "mimetype": "text/x-python",
   "name": "python",
   "nbconvert_exporter": "python",
   "pygments_lexer": "ipython3",
   "version": "3.8.3"
  }
 },
 "nbformat": 4,
 "nbformat_minor": 4
}
